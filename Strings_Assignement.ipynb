{
 "cells": [
  {
   "cell_type": "markdown",
   "id": "e4dc55dc",
   "metadata": {},
   "source": [
    "# 1. Write a python program to convert a string to lower case"
   ]
  },
  {
   "cell_type": "code",
   "execution_count": 1,
   "id": "dabe859a",
   "metadata": {},
   "outputs": [
    {
     "name": "stdout",
     "output_type": "stream",
     "text": [
      "jagadeesh\n"
     ]
    }
   ],
   "source": [
    "a = \"JAGADEESH\"\n",
    "print(a.lower())"
   ]
  },
  {
   "cell_type": "markdown",
   "id": "8a497eca",
   "metadata": {},
   "source": [
    "# 2. Write a python program to convert only odd indexed characters to lower case\n",
    "\n",
    "* Ex: PYTHON\n",
    "* Output: - PyThOn"
   ]
  },
  {
   "cell_type": "code",
   "execution_count": 2,
   "id": "fc11468e",
   "metadata": {},
   "outputs": [
    {
     "name": "stdout",
     "output_type": "stream",
     "text": [
      "The original string is : python\n",
      "The alternate case string is : PyThOn\n"
     ]
    }
   ],
   "source": [
    "test_str = \"python\"\n",
    "print(\"The original string is : \" + str(test_str))\n",
    "res = \"\"\n",
    "for i in range(len(test_str)):\n",
    "    if  i % 2==0:\n",
    "        res = res + test_str[i].upper()\n",
    "    else:\n",
    "        res = res + test_str[i].lower()\n",
    "print(\"The alternate case string is : \" + str(res))"
   ]
  },
  {
   "cell_type": "markdown",
   "id": "2fa08783",
   "metadata": {},
   "source": [
    "# ***3. Write a python program to convert only even indexed characters to lower case***\n",
    "* Ex: PYTHON\n",
    "* Output: - pYtHoN"
   ]
  },
  {
   "cell_type": "code",
   "execution_count": 3,
   "id": "0985d6a9",
   "metadata": {},
   "outputs": [
    {
     "name": "stdout",
     "output_type": "stream",
     "text": [
      "The original string is : PYTHON\n",
      "The even indexed are in string :  pYtHoN\n"
     ]
    }
   ],
   "source": [
    "a = \"PYTHON\"\n",
    "print(\"The original string is : \"+ str(a))\n",
    "r = \" \"\n",
    "for i in range(len(a)):\n",
    "    if  i%2==0:\n",
    "        r = r+a[i].lower()\n",
    "    else:\n",
    "        r = r+a[i].upper()\n",
    "print(\"The even indexed are in string : \" +str(r))"
   ]
  },
  {
   "cell_type": "markdown",
   "id": "9c5c7d5b",
   "metadata": {},
   "source": [
    "# ***4. Write a python program to convert only odd indexed characters to upper case***\n",
    "* Ex: python\n",
    "* Output: pYtHoN\n"
   ]
  },
  {
   "cell_type": "code",
   "execution_count": 4,
   "id": "086f4547",
   "metadata": {},
   "outputs": [
    {
     "name": "stdout",
     "output_type": "stream",
     "text": [
      "The original string is : PYTHON\n",
      "The even indexed are in string :  pYtHoN\n"
     ]
    }
   ],
   "source": [
    "a = \"PYTHON\"\n",
    "print(\"The original string is : \"+ str(a))\n",
    "r = \" \"\n",
    "for i in range(len(a)):\n",
    "    if  i%2!=0:\n",
    "        r = r+a[i].upper()\n",
    "    else:\n",
    "        r = r+a[i].lower()\n",
    "print(\"The even indexed are in string : \" +str(r))"
   ]
  },
  {
   "cell_type": "markdown",
   "id": "43468eae",
   "metadata": {},
   "source": [
    "# ***5. Write a python program to convert only even indexed characters to upper case***\n",
    "* Ex: python\n",
    "* Output: - PyThOn"
   ]
  },
  {
   "cell_type": "code",
   "execution_count": 5,
   "id": "c6911b0e",
   "metadata": {},
   "outputs": [
    {
     "name": "stdout",
     "output_type": "stream",
     "text": [
      "The original string is : PYTHON\n",
      "The even indexed are in string :  PyThOn\n"
     ]
    }
   ],
   "source": [
    "a = \"PYTHON\"\n",
    "print(\"The original string is : \"+ str(a))\n",
    "r = \" \"\n",
    "for i in range(len(a)):\n",
    "    if  i%2!=0:\n",
    "        r = r+a[i].lower()\n",
    "    else:\n",
    "        r = r+a[i].upper()\n",
    "print(\"The even indexed are in string : \" +str(r))"
   ]
  },
  {
   "cell_type": "markdown",
   "id": "4d40bcd6",
   "metadata": {},
   "source": [
    "# **6. Write a python program where you have different variable which contains your**\n",
    "* name, gender, age, phone number, father’s name and mother’s name.\n",
    "* And by using this variable create a variable named bio-data where you will use all this variable\n",
    "* Ex: print(bio-data)\n",
    "* Output:- My name is …., My age is ….,My phone-no is ….,my father’s name is …,and my mother’s name is…\n"
   ]
  },
  {
   "cell_type": "code",
   "execution_count": 6,
   "id": "2f5fc74d",
   "metadata": {},
   "outputs": [
    {
     "name": "stdout",
     "output_type": "stream",
     "text": [
      "My name is Maddukuri Venkata Durga Sai Jagadeesh, My age is 23,My phone-no is 9014819505,my father’s name is Maddukuri Maheswararao ,and my mother’s name is Maddukuri Lakshmi\n"
     ]
    }
   ],
   "source": [
    "a = \"Maddukuri Venkata Durga Sai Jagadeesh\"\n",
    "b = \"Male\"\n",
    "c = 23\n",
    "d = 9014819505\n",
    "e = \"Maddukuri Maheswararao\"\n",
    "f = \"Maddukuri Lakshmi\"\n",
    "bio_data=print(\"My name is {}, My age is {},My phone-no is {},my father’s name is {} ,and my mother’s name is {}\".format(a,c,d,e,f))\n"
   ]
  },
  {
   "cell_type": "markdown",
   "id": "0bb8b1c5",
   "metadata": {},
   "source": [
    "# *7. Write a python program to count how many times “@” occurred*\n",
    "* **Ex: S@ndhy@**\n",
    "* **Output: 2**"
   ]
  },
  {
   "cell_type": "code",
   "execution_count": 7,
   "id": "2deb7255",
   "metadata": {},
   "outputs": [
    {
     "data": {
      "text/plain": [
       "2"
      ]
     },
     "execution_count": 7,
     "metadata": {},
     "output_type": "execute_result"
    }
   ],
   "source": [
    "x = \"j@g@deesh\"\n",
    "x.count('@')"
   ]
  },
  {
   "cell_type": "markdown",
   "id": "cc507a1c",
   "metadata": {},
   "source": [
    "# **8. Write a python program to get only names from the string**\n",
    "* **Ex: “name1.@gmail.com, name2.@gmail.com, name#3.@gmail.com”**\n",
    "* **Output-name1, name2, name3**"
   ]
  },
  {
   "cell_type": "code",
   "execution_count": 8,
   "id": "0314cbf0",
   "metadata": {},
   "outputs": [
    {
     "data": {
      "text/plain": [
       "'jagadeeshmaddukuri20,18221a0562'"
      ]
     },
     "execution_count": 8,
     "metadata": {},
     "output_type": "execute_result"
    }
   ],
   "source": [
    "a = \"jagadeeshmaddukuri20@gmail.com,18221a0562@gmail.com\"\n",
    "a.replace(\"@gmail.com\",\"\")"
   ]
  },
  {
   "cell_type": "markdown",
   "id": "8b4c65d6",
   "metadata": {},
   "source": [
    "# **9. Write a program to remove vowels from the entire alphabets**\n",
    "* **Ex: “abcdefghijklmnopqrstuvwxyz”**\n",
    "* **Output: “bcdfghjklmnpqrstvwxyz”**"
   ]
  },
  {
   "cell_type": "code",
   "execution_count": 9,
   "id": "cef07b74",
   "metadata": {},
   "outputs": [
    {
     "name": "stdout",
     "output_type": "stream",
     "text": [
      "b c d f g h j k l m n p q r s t v w x y z "
     ]
    }
   ],
   "source": [
    "a = \"abcdefghijklmnopqrstuvwxyz\"\n",
    "b='a,e,i,o,u'\n",
    "x=\"\"\n",
    "for i in a:\n",
    "    if i not in b:\n",
    "        x=x+b\n",
    "        print(i,end=\" \")\n"
   ]
  },
  {
   "cell_type": "markdown",
   "id": "9597d63e",
   "metadata": {},
   "source": [
    "# **10. Find all occurrences of a substring in a given string by ignoring the case**\n",
    "* **Ex: str1 = \"Welcome to Innomatics. innomatics awesome, isn't it?\"**\n",
    "* **Output: The innomatics count is: 2**"
   ]
  },
  {
   "cell_type": "code",
   "execution_count": 10,
   "id": "58745115",
   "metadata": {},
   "outputs": [
    {
     "data": {
      "text/plain": [
       "2"
      ]
     },
     "execution_count": 10,
     "metadata": {},
     "output_type": "execute_result"
    }
   ],
   "source": [
    "str1 = \"Welcome to Innomatics. innomatics awesome, isn't it?\"\n",
    "x=str1.casefold()\n",
    "b=\"innomatics\"\n",
    "c=x.count(b)\n",
    "c"
   ]
  },
  {
   "cell_type": "code",
   "execution_count": null,
   "id": "ee2b72e1",
   "metadata": {},
   "outputs": [],
   "source": []
  }
 ],
 "metadata": {
  "kernelspec": {
   "display_name": "Python 3 (ipykernel)",
   "language": "python",
   "name": "python3"
  },
  "language_info": {
   "codemirror_mode": {
    "name": "ipython",
    "version": 3
   },
   "file_extension": ".py",
   "mimetype": "text/x-python",
   "name": "python",
   "nbconvert_exporter": "python",
   "pygments_lexer": "ipython3",
   "version": "3.9.12"
  }
 },
 "nbformat": 4,
 "nbformat_minor": 5
}
