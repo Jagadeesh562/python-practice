{
 "cells": [
  {
   "cell_type": "markdown",
   "id": "fc8a505e",
   "metadata": {},
   "source": [
    "# 1.Find elements frequency in Tuple\n",
    "\n",
    "* Sample Input: (4, 5, 4, 5, 6, 6, 5) \n",
    "* Output : {4: 2, 5: 3, 6: 2} \n"
   ]
  },
  {
   "cell_type": "code",
   "execution_count": 8,
   "id": "8229e5e9",
   "metadata": {},
   "outputs": [
    {
     "data": {
      "text/plain": [
       "{4: 2, 5: 3, 6: 2}"
      ]
     },
     "execution_count": 8,
     "metadata": {},
     "output_type": "execute_result"
    }
   ],
   "source": [
    "t = (4, 5, 4, 5, 6, 6, 5)\n",
    "s = dict()\n",
    "x=list(t)\n",
    "for i in x:\n",
    "    s[i]=x.count(i)    \n",
    "s"
   ]
  },
  {
   "cell_type": "markdown",
   "id": "78d1d6e0",
   "metadata": {},
   "source": [
    "# 2.Python program to sort a list of tuples alphabetically\n",
    "* Input: [(\"aaaa\", 28), (\"aa\", 30), (\"bab\", 29), (\"bb\", 21), (\"csa\", \"C\")]\n",
    "* Output: [('aa', 30), ('aaaa', 28), ('bab', 29), ('bb', 21), ('csa', 'C')]"
   ]
  },
  {
   "cell_type": "code",
   "execution_count": 15,
   "id": "b0d6e443",
   "metadata": {},
   "outputs": [
    {
     "name": "stdout",
     "output_type": "stream",
     "text": [
      "[('aa', 30), ('aaaa', 28), ('bab', 29), ('bb', 21), ('csa', 'C')]\n"
     ]
    }
   ],
   "source": [
    "def Sort_Tuple(tup):\n",
    "    return(sorted(tup, key = lambda x: x[0]))\n",
    "tup = [(\"aaaa\", 28), (\"aa\", 30), (\"bab\", 29),(\"bb\", 21), (\"csa\", \"C\")]\n",
    "print(Sort_Tuple(tup))"
   ]
  },
  {
   "cell_type": "markdown",
   "id": "01a003a7",
   "metadata": {},
   "source": [
    "# 3.Write a Python program to calculate the average value of the numbers in a given tuple of tuples\n",
    "\n",
    "* Original Tuple:  ((1, 1, -5), (30, -15, 56), (81, -60, -39), (-10, 2, 3))\n",
    "* Average value of the numbers of the said tuple of tuples:\n",
    "    [25.5, -18.0, 3.75]\n"
   ]
  },
  {
   "cell_type": "code",
   "execution_count": 19,
   "id": "116ae7b5",
   "metadata": {},
   "outputs": [
    {
     "name": "stdout",
     "output_type": "stream",
     "text": [
      "\n",
      "Original Tuple: \n",
      "((1, 1, -5), (30, -15, 56), (81, -60, -39), (-10, 2, 3))\n",
      "\n",
      "Average value of the numbers of the said tuple of tuples:\n",
      " [25.5, -18.0, 3.75]\n"
     ]
    }
   ],
   "source": [
    "def average_tuple(nums):\n",
    "    result = [sum(x) / len(x) for x in zip(*nums)]\n",
    "    return result\n",
    "\n",
    "nums = ((1, 1, -5), (30, -15, 56), (81, -60, -39), (-10, 2, 3))\n",
    "print (\"\\nOriginal Tuple: \")\n",
    "print(nums)\n",
    "print(\"\\nAverage value of the numbers of the said tuple of tuples:\\n\",average_tuple(nums))"
   ]
  },
  {
   "cell_type": "markdown",
   "id": "7a6100c6",
   "metadata": {},
   "source": [
    "* zip is used to to map the similar index of multiple containers so that they can be used just using a single entity"
   ]
  }
 ],
 "metadata": {
  "kernelspec": {
   "display_name": "Python 3 (ipykernel)",
   "language": "python",
   "name": "python3"
  },
  "language_info": {
   "codemirror_mode": {
    "name": "ipython",
    "version": 3
   },
   "file_extension": ".py",
   "mimetype": "text/x-python",
   "name": "python",
   "nbconvert_exporter": "python",
   "pygments_lexer": "ipython3",
   "version": "3.9.12"
  }
 },
 "nbformat": 4,
 "nbformat_minor": 5
}
