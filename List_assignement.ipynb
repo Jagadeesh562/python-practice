{
 "cells": [
  {
   "cell_type": "markdown",
   "id": "7f08b8ea",
   "metadata": {},
   "source": [
    "# 1. Write a Python program to sum all the items and multiply all the items "
   ]
  },
  {
   "cell_type": "code",
   "execution_count": 1,
   "id": "a6aef0ee",
   "metadata": {},
   "outputs": [
    {
     "name": "stdout",
     "output_type": "stream",
     "text": [
      "sum of items: 1\n",
      "multiply of items : 1\n",
      "sum of items: 4\n",
      "multiply of items : 3\n",
      "sum of items: 7\n",
      "multiply of items : 9\n",
      "sum of items: 11\n",
      "multiply of items : 36\n",
      "sum of items: 16\n",
      "multiply of items : 180\n"
     ]
    }
   ],
   "source": [
    "def a(l):\n",
    "    sum=0\n",
    "    mul=1\n",
    "    for i in range(len(l)):\n",
    "        sum= sum+l[i]\n",
    "        mul= mul*l[i]\n",
    "        print(\"sum of items:\",sum)\n",
    "        print(\"multiply of items :\",mul)\n",
    "a([1,3,3,4,5])"
   ]
  },
  {
   "cell_type": "markdown",
   "id": "de1d8720",
   "metadata": {},
   "source": [
    "# 2. Write a Python function that takes two lists and returns True if they have at least one common member.\n",
    "* Example:\n",
    "* [1,2,3,4,5], [5,6,7,8,9] = True\n",
    "* [1,2,3,4,5], [6,7,8,9] = None"
   ]
  },
  {
   "cell_type": "code",
   "execution_count": 2,
   "id": "79588f39",
   "metadata": {},
   "outputs": [
    {
     "name": "stdout",
     "output_type": "stream",
     "text": [
      "True\n",
      "None\n"
     ]
    }
   ],
   "source": [
    "def common_data(list1, list2):\n",
    "    result = False  \n",
    "    for x in list1:\n",
    "        for y in list2:\n",
    "            if x == y:\n",
    "                result = True  \n",
    "                return result  \n",
    "print(common_data([1,2,3,4,5], [5,6,7,8,9]))  \n",
    "print(common_data([1,2,3,4,5], [6,7,8,9]))  "
   ]
  },
  {
   "cell_type": "markdown",
   "id": "57840d4f",
   "metadata": {},
   "source": [
    "# 3. Write a Python program to compute the difference between two lists.\n",
    "* Sample data: [\"red\", \"orange\", \"green\", \"blue\", \"white\"], [\"black\", \"yellow\", \"green\", \"blue\"]\n",
    "* Expected Output:\n",
    "* Color1-Color2: ['white', 'orange', 'red']\n",
    "* Color2-Color1: ['black', 'yellow'] "
   ]
  },
  {
   "cell_type": "code",
   "execution_count": 3,
   "id": "8c04bd76",
   "metadata": {},
   "outputs": [
    {
     "name": "stdout",
     "output_type": "stream",
     "text": [
      "Color1-Color2: {'orange', 'white', 'red'}\n",
      "Color2-Color1: {'black ', 'yellow'}\n"
     ]
    }
   ],
   "source": [
    "color1 =[\"red\",\"orange\",\"green\",\"blue\",\"white\"]\n",
    "color2= [\"black \",\"yellow\",\"green\",\"blue\"]\n",
    "print(\"Color1-Color2:\",set(color1)-(set(color2)))\n",
    "print(\"Color2-Color1:\",set(color2)-(set(color1)))"
   ]
  },
  {
   "cell_type": "code",
   "execution_count": null,
   "id": "53b0c77f",
   "metadata": {},
   "outputs": [],
   "source": []
  }
 ],
 "metadata": {
  "kernelspec": {
   "display_name": "Python 3 (ipykernel)",
   "language": "python",
   "name": "python3"
  },
  "language_info": {
   "codemirror_mode": {
    "name": "ipython",
    "version": 3
   },
   "file_extension": ".py",
   "mimetype": "text/x-python",
   "name": "python",
   "nbconvert_exporter": "python",
   "pygments_lexer": "ipython3",
   "version": "3.9.12"
  }
 },
 "nbformat": 4,
 "nbformat_minor": 5
}
