{
 "cells": [
  {
   "cell_type": "markdown",
   "id": "5fe6f1f9",
   "metadata": {},
   "source": [
    "# 1. write a python code to print the following patterns"
   ]
  },
  {
   "cell_type": "markdown",
   "id": "fae2b15b",
   "metadata": {},
   "source": [
    "* **pattern -1**"
   ]
  },
  {
   "cell_type": "code",
   "execution_count": 2,
   "id": "39e2905d",
   "metadata": {},
   "outputs": [
    {
     "name": "stdout",
     "output_type": "stream",
     "text": [
      "1\n",
      "1 2\n",
      "1 2 3\n",
      "1 2 3 4\n",
      "1 2 3 4 5\n"
     ]
    }
   ],
   "source": [
    "for i in range(1,6):\n",
    "    for j in range(1,i):\n",
    "        print(j,end=\" \")\n",
    "    print(i)"
   ]
  },
  {
   "cell_type": "markdown",
   "id": "34bb2127",
   "metadata": {},
   "source": [
    "* **pattern-2**"
   ]
  },
  {
   "cell_type": "code",
   "execution_count": 4,
   "id": "b868f559",
   "metadata": {},
   "outputs": [
    {
     "name": "stdout",
     "output_type": "stream",
     "text": [
      "1\n",
      "2 2\n",
      "3 3 3\n",
      "4 4 4 4\n",
      "5 5 5 5 5\n"
     ]
    }
   ],
   "source": [
    "for i in range(1,6):\n",
    "    for j in range(1,i):\n",
    "        print(i,end=\" \")\n",
    "    print(i)"
   ]
  },
  {
   "cell_type": "markdown",
   "id": "0adf1851",
   "metadata": {},
   "source": [
    "* **pattern-3**"
   ]
  },
  {
   "cell_type": "code",
   "execution_count": 7,
   "id": "38c212ca",
   "metadata": {},
   "outputs": [
    {
     "name": "stdout",
     "output_type": "stream",
     "text": [
      "\n",
      "* \n",
      "* * \n",
      "* * * \n",
      "* * * * \n",
      "* * * * * \n"
     ]
    }
   ],
   "source": [
    "for i in range(1,7):\n",
    "    for j in range(1,i):\n",
    "        print(\"*\",end=\" \")\n",
    "    print( )"
   ]
  },
  {
   "cell_type": "markdown",
   "id": "b12ee671",
   "metadata": {},
   "source": [
    "* **pattern-4**"
   ]
  },
  {
   "cell_type": "code",
   "execution_count": 1,
   "id": "e5937dbf",
   "metadata": {},
   "outputs": [
    {
     "name": "stdout",
     "output_type": "stream",
     "text": [
      "5 4 3 2 1 \n",
      "4 3 2 1 \n",
      "3 2 1 \n",
      "2 1 \n",
      "1 \n",
      "\n"
     ]
    }
   ],
   "source": [
    "rows = 5\n",
    "for i in range(0, rows + 1):\n",
    "    for j in range(rows - i, 0, -1):\n",
    "        print(j, end=' ')\n",
    "    print()"
   ]
  },
  {
   "cell_type": "markdown",
   "id": "55c82e7e",
   "metadata": {},
   "source": [
    "* **pattern-5**"
   ]
  },
  {
   "cell_type": "code",
   "execution_count": 9,
   "id": "36f55e69",
   "metadata": {},
   "outputs": [
    {
     "name": "stdout",
     "output_type": "stream",
     "text": [
      "5 5 5 5 5\n",
      "4 4 4 4\n",
      "3 3 3\n",
      "2 2\n",
      "1\n"
     ]
    }
   ],
   "source": [
    "for i in range(5,0,-1):\n",
    "    for j in range(1,i):\n",
    "        print(i,end=\" \")\n",
    "    print(i)"
   ]
  },
  {
   "cell_type": "markdown",
   "id": "b9dbc1b2",
   "metadata": {},
   "source": [
    "* **pattern-6**"
   ]
  },
  {
   "cell_type": "code",
   "execution_count": 10,
   "id": "56d9d508",
   "metadata": {},
   "outputs": [
    {
     "name": "stdout",
     "output_type": "stream",
     "text": [
      "* * * * * \n",
      "* * * * \n",
      "* * * \n",
      "* * \n",
      "* \n",
      "\n"
     ]
    }
   ],
   "source": [
    "for i in range(6,0,-1):\n",
    "    for j in range(1,i):\n",
    "        print(\"*\",end=\" \")\n",
    "    print()"
   ]
  },
  {
   "cell_type": "markdown",
   "id": "476fdb3b",
   "metadata": {},
   "source": [
    "* **pattern-7**"
   ]
  },
  {
   "cell_type": "code",
   "execution_count": 19,
   "id": "798c294d",
   "metadata": {},
   "outputs": [
    {
     "name": "stdout",
     "output_type": "stream",
     "text": [
      " \n",
      "1  \n",
      "2 3  \n",
      "4 5 6  \n",
      "7 8 9 10  \n"
     ]
    }
   ],
   "source": [
    "def contnum(n):\n",
    "    num = 1\n",
    "    for i in range(0,n):\n",
    "        for j in range(0,i+0):\n",
    "            print(num,end = \" \")\n",
    "            num = num+1\n",
    "        print(\" \")\n",
    "contnum(5)"
   ]
  },
  {
   "cell_type": "markdown",
   "id": "63865adc",
   "metadata": {},
   "source": [
    "* **pattern-8**"
   ]
  },
  {
   "cell_type": "code",
   "execution_count": 11,
   "id": "24a9e647",
   "metadata": {},
   "outputs": [
    {
     "name": "stdout",
     "output_type": "stream",
     "text": [
      "     *\n",
      "    * *\n",
      "   * * *\n",
      "  * * * *\n",
      " * * * * *\n"
     ]
    }
   ],
   "source": [
    "for i in range(1,6):\n",
    "    print(\" \"*(5-i)+\" *\"*i)"
   ]
  },
  {
   "cell_type": "code",
   "execution_count": null,
   "id": "41f61ae9",
   "metadata": {},
   "outputs": [],
   "source": []
  }
 ],
 "metadata": {
  "kernelspec": {
   "display_name": "Python 3 (ipykernel)",
   "language": "python",
   "name": "python3"
  },
  "language_info": {
   "codemirror_mode": {
    "name": "ipython",
    "version": 3
   },
   "file_extension": ".py",
   "mimetype": "text/x-python",
   "name": "python",
   "nbconvert_exporter": "python",
   "pygments_lexer": "ipython3",
   "version": "3.9.12"
  }
 },
 "nbformat": 4,
 "nbformat_minor": 5
}
